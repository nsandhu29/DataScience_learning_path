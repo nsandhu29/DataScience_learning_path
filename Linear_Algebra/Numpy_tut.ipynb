{
 "cells": [
  {
   "cell_type": "markdown",
   "metadata": {},
   "source": [
    "# NUMPY\n",
    "\n",
    "NumPy is a Python library that provides a simple yet powerful data structure: the n-dimensional array. This is the foundation on which almost all the power of Python’s data science toolkit is built, and learning NumPy is the first step on any Python data scientist’s journey.\n",
    "\n",
    "https://en.wikipedia.org/wiki/Matrix_(mathematics)\n",
    "\n",
    "Here are the top *four benefits* that NumPy can bring to your code:\n",
    "- **More speed**: NumPy uses algorithms written in C that complete in nanoseconds rather than seconds.\n",
    "- **Fewer loops**: NumPy helps you to reduce loops and keep from getting tangled up in iteration indices.\n",
    "- **Clearer code**: Without loops, your code will look more like the equations you’re trying to calculate.\n",
    "- **Better quality**: There are thousands of contributors working to keep NumPy fast, friendly, and bug free.\n",
    "\n",
    "Because of these benefits, NumPy is the de facto standard for multidimensional arrays in Python data science, and many of the most popular libraries are built on top of it. Learning NumPy is a great way to set down a solid foundation as you expand your knowledge into more specific areas of data science.Because of these benefits, NumPy is the de facto standard for multidimensional arrays in Python data science, and many of the most popular libraries are built on top of it. Learning NumPy is a great way to set down a solid foundation as you expand your knowledge into more specific areas of data science."
   ]
  },
  {
   "cell_type": "code",
   "execution_count": 1,
   "metadata": {},
   "outputs": [],
   "source": [
    "import numpy as np"
   ]
  },
  {
   "cell_type": "markdown",
   "metadata": {},
   "source": [
    "$$Matrix =\n",
    "\\begin{bmatrix}\n",
    "1&2&3\\\\\n",
    "4&5&6\\\\\n",
    "7&7&9\n",
    "\\end{bmatrix}$$"
   ]
  },
  {
   "cell_type": "code",
   "execution_count": 2,
   "metadata": {},
   "outputs": [
    {
     "data": {
      "text/plain": [
       "array([[1, 2, 3],\n",
       "       [4, 5, 6],\n",
       "       [7, 7, 9]])"
      ]
     },
     "execution_count": 2,
     "metadata": {},
     "output_type": "execute_result"
    }
   ],
   "source": [
    "digits = np.array([\n",
    "    [1, 2, 3],\n",
    "    [4, 5, 6],\n",
    "    [7, 7, 9]\n",
    "])\n",
    "digits"
   ]
  },
  {
   "cell_type": "markdown",
   "metadata": {},
   "source": [
    "### Hello NumPy: Curving Test Grades Tutorial\n",
    "\n",
    "This first example introduces a few core concepts in NumPy that you’ll use throughout the rest of the tutorial:\n",
    "\n",
    "* Creating arrays using numpy.array()\n",
    "* Treating complete arrays like individual values to make vectorized calculations more readable\n",
    "* Using built-in NumPy functions to modify and aggregate the data\n",
    "\n",
    "These concepts are the core of using NumPy effectively.\n",
    "\n",
    "The scenario is this: You’re a teacher who has just graded your students on a recent test. Unfortunately, you may have made the test too challenging, and most of the students did worse than expected. To help everybody out, you’re going to curve everyone’s grades.\n",
    "\n",
    "It’ll be a relatively rudimentary curve, though. You’ll take whatever the average score is and declare that a C. Additionally, you’ll make sure that the curve doesn’t accidentally hurt your students’ grades or help so much that the student does better than 100%."
   ]
  },
  {
   "cell_type": "code",
   "execution_count": 3,
   "metadata": {},
   "outputs": [
    {
     "data": {
      "text/plain": [
       "array([ 91.25,  54.25,  83.25, 100.  ,  70.25, 100.  ,  93.25,  31.25])"
      ]
     },
     "execution_count": 3,
     "metadata": {},
     "output_type": "execute_result"
    }
   ],
   "source": [
    "curve_center = 80\n",
    "# Create NumPy array\n",
    "grades = np.array([72, 35, 64, 88, 51, 90, 74, 12])\n",
    "def curve(grades):\n",
    "    # take mean of Numpy array\n",
    "    average = grades.mean()\n",
    "    change = curve_center - average\n",
    "    new_grades = grades + change\n",
    "    # you limit, or clip, the values to a set of minimums and maximums.\n",
    "    return np.clip(new_grades, grades, 100)\n",
    "curve(grades)"
   ]
  },
  {
   "cell_type": "markdown",
   "metadata": {},
   "source": [
    "### new_grades = grades + change\n",
    "\n",
    "This involves two important concepts at once:\n",
    "* Vectorization\n",
    "* Broadcasting\n",
    "\n",
    "**Vectorization** is the process of performing the same operation in the same way for each element in an array. This removes for loops from your code but achieves the same result.\n",
    "\n",
    "**Broadcasting** is the process of extending two arrays of different shapes and figuring out how to perform a vectorized calculation between them. Remember, grades is an array of numbers of shape (8,) and change is a scalar, or single number, essentially with shape (1,). In this case, NumPy adds the scalar to each item in the array and returns a new array with the results.\n",
    "\n",
    "### np.clip(new_grades, grades, 100)\n",
    "\n",
    "This is another example of *broadcasting*. For the second argument to clip(), you pass grades, ensuring that each newly curved grade doesn’t go lower than the original grade. But for the third argument, you pass a single value: 100. NumPy takes that value and broadcasts it against every element in new_grades, ensuring that none of the newly curved grades exceeds a perfect score.\n"
   ]
  },
  {
   "cell_type": "markdown",
   "metadata": {},
   "source": [
    "### Vectors, \n",
    "\n",
    "which are one-dimensional arrays of numbers, are the least complicated to keep track of. Two dimensions aren’t too bad, either, because they’re similar to spreadsheets. But things start to get tricky at three dimensions, and visualizing four? Vector example \n",
    "\n",
    "$$\\hat V =\\begin{bmatrix}\n",
    "1\\\\\n",
    "3\\\\\n",
    "6\\\\\n",
    "700\\\\\n",
    "800\n",
    "\\end{bmatrix}$$\n",
    "\n",
    "\n",
    "### Mastering Shape\n",
    "\n",
    "**Shape** is a key concept when you’re using multidimensional arrays. At a certain point, it’s easier to forget about visualizing the shape of your data and to instead follow some mental rules and trust NumPy to tell you the correct shape.\n",
    "\n",
    "*All arrays have a property called .shape that returns a tuple of the size in each dimension.* It’s less important which dimension is which, but it’s critical that the arrays you pass to functions are in the shape that the functions expect. A common way to confirm that your data has the proper shape is to print the data and its shape until you’re sure everything is working like you expect."
   ]
  },
  {
   "cell_type": "code",
   "execution_count": 6,
   "metadata": {},
   "outputs": [
    {
     "name": "stdout",
     "output_type": "stream",
     "text": [
      "(12,)\n"
     ]
    },
    {
     "data": {
      "text/plain": [
       "array([29.3, 42.1, 18.8, 16.1, 38. , 12.5, 12.6, 49.9, 38.6, 31.3,  9.2,\n",
       "       22.2])"
      ]
     },
     "execution_count": 6,
     "metadata": {},
     "output_type": "execute_result"
    }
   ],
   "source": [
    "temperatures = np.array([\n",
    "    29.3, 42.1, 18.8, 16.1, 38.0, 12.5,\n",
    "    12.6, 49.9, 38.6, 31.3, 9.2, 22.2\n",
    "])\n",
    "print(temperatures.shape)\n",
    "temperatures"
   ]
  },
  {
   "cell_type": "code",
   "execution_count": 7,
   "metadata": {},
   "outputs": [
    {
     "name": "stdout",
     "output_type": "stream",
     "text": [
      "(2, 2, 3)\n"
     ]
    },
    {
     "data": {
      "text/plain": [
       "array([[[29.3, 42.1, 18.8],\n",
       "        [16.1, 38. , 12.5]],\n",
       "\n",
       "       [[12.6, 49.9, 38.6],\n",
       "        [31.3,  9.2, 22.2]]])"
      ]
     },
     "execution_count": 7,
     "metadata": {},
     "output_type": "execute_result"
    }
   ],
   "source": [
    "temperatures = temperatures.reshape(2, 2, 3)\n",
    "print(temperatures.shape)\n",
    "temperatures"
   ]
  },
  {
   "cell_type": "code",
   "execution_count": 8,
   "metadata": {},
   "outputs": [
    {
     "data": {
      "text/plain": [
       "array([[[29.3, 16.1],\n",
       "        [42.1, 38. ],\n",
       "        [18.8, 12.5]],\n",
       "\n",
       "       [[12.6, 31.3],\n",
       "        [49.9,  9.2],\n",
       "        [38.6, 22.2]]])"
      ]
     },
     "execution_count": 8,
     "metadata": {},
     "output_type": "execute_result"
    }
   ],
   "source": [
    "np.swapaxes(temperatures, 1, 2)"
   ]
  },
  {
   "cell_type": "markdown",
   "metadata": {},
   "source": [
    "### Understanding Axes\n",
    "\n",
    "The example above shows how important it is to know not only what shape your data is in but also which data is in which axis. In NumPy arrays, axes are zero-indexed and identify which dimension is which. For example, a two-dimensional array has a vertical axis (axis 0) and a horizontal axis (axis 1). Lots of functions and commands in NumPy change their behavior based on which axis you tell them to process.\n",
    "\n",
    "This example will show how .max() behaves by default, with no axis argument, and how it changes functionality depending on which axis you specify when you do supply an argument:"
   ]
  },
  {
   "cell_type": "code",
   "execution_count": 9,
   "metadata": {},
   "outputs": [
    {
     "data": {
      "text/plain": [
       "9"
      ]
     },
     "execution_count": 9,
     "metadata": {},
     "output_type": "execute_result"
    }
   ],
   "source": [
    "table = np.array([\n",
    "    [5, 3, 7, 1],\n",
    "    [2, 6, 7, 9],\n",
    "    [1, 2, 1, 1],\n",
    "    [4, 3, 2, 0]\n",
    "])\n",
    "\n",
    "table.max()"
   ]
  },
  {
   "cell_type": "code",
   "execution_count": 10,
   "metadata": {},
   "outputs": [
    {
     "data": {
      "text/plain": [
       "array([5, 6, 7, 9])"
      ]
     },
     "execution_count": 10,
     "metadata": {},
     "output_type": "execute_result"
    }
   ],
   "source": [
    "table.max(axis = 0)"
   ]
  },
  {
   "cell_type": "code",
   "execution_count": 11,
   "metadata": {},
   "outputs": [
    {
     "data": {
      "text/plain": [
       "array([7, 9, 2, 4])"
      ]
     },
     "execution_count": 11,
     "metadata": {},
     "output_type": "execute_result"
    }
   ],
   "source": [
    "table.max(axis = 1)"
   ]
  },
  {
   "cell_type": "markdown",
   "metadata": {},
   "source": [
    "**By default, .max() returns the largest value in the entire array, no matter how many dimensions there are**. However, once you specify an axis, it performs that calculation for each set of values along that particular axis. For example, with an argument of axis=0, .max() selects the maximum value in each of the four vertical sets of values in table and returns an array that has been flattened, or aggregated into a one-dimensional array.\n",
    "\n",
    "**In fact, many of NumPy’s functions behave this way: If no axis is specified, then they perform an operation on the entire dataset. Otherwise, they perform the operation in an axis-wise fashion.**\n",
    "\n",
    "### Broadcasting\n",
    "\n",
    "Fundamentally, it functions around one rule: arrays can be broadcast against each other if their dimensions match or if one of the arrays has a size of 1.\n",
    "\n",
    "If the arrays match in size along an axis, then elements will be operated on element-by-element, similar to how the built-in Python function zip() works. If one of the arrays has a size of 1 in an axis, then that value will be broadcast along that axis, or duplicated as many times as necessary to match the number of elements along that axis in the other array.\n",
    "\n",
    "Here’s a quick example. Array A has the shape (4, 1, 8), and array B has the shape (1, 6, 8). Based on the rules above, you can operate on these arrays together:\n",
    "\n",
    "* In axis 0, A has a 4 and B has a 1, so B can be broadcast along that axis.\n",
    "* In axis 1, A has a 1 and B has a 6, so A can be broadcast along that axis.\n",
    "* In axis 2, the two arrays have matching sizes, so they can operate successfully.\n",
    "\n",
    "All three axes successfully follow the rule."
   ]
  },
  {
   "cell_type": "code",
   "execution_count": 15,
   "metadata": {},
   "outputs": [
    {
     "data": {
      "text/plain": [
       "array([[[ 0,  1,  2,  3,  4,  5,  6,  7]],\n",
       "\n",
       "       [[ 8,  9, 10, 11, 12, 13, 14, 15]],\n",
       "\n",
       "       [[16, 17, 18, 19, 20, 21, 22, 23]],\n",
       "\n",
       "       [[24, 25, 26, 27, 28, 29, 30, 31]]])"
      ]
     },
     "execution_count": 15,
     "metadata": {},
     "output_type": "execute_result"
    }
   ],
   "source": [
    "# This is a good way to create an array from a range using arange()!\n",
    "A = np.arange(32).reshape(4, 1, 8)\n",
    "A"
   ]
  },
  {
   "cell_type": "code",
   "execution_count": 16,
   "metadata": {},
   "outputs": [
    {
     "data": {
      "text/plain": [
       "array([[[ 0,  1,  2,  3,  4,  5,  6,  7],\n",
       "        [ 8,  9, 10, 11, 12, 13, 14, 15],\n",
       "        [16, 17, 18, 19, 20, 21, 22, 23],\n",
       "        [24, 25, 26, 27, 28, 29, 30, 31],\n",
       "        [32, 33, 34, 35, 36, 37, 38, 39],\n",
       "        [40, 41, 42, 43, 44, 45, 46, 47]]])"
      ]
     },
     "execution_count": 16,
     "metadata": {},
     "output_type": "execute_result"
    }
   ],
   "source": [
    "B = np.arange(48).reshape(1, 6, 8)\n",
    "B"
   ]
  },
  {
   "cell_type": "markdown",
   "metadata": {},
   "source": [
    "\n",
    "**A has 4 planes, each with 1 row and 8 columns. B has only 1 plane with 6 rows and 8 columns.**\n",
    "\n",
    "The way broadcasting works is that NumPy duplicates the plane in B three times so that you have a total of four, matching the number of planes in A. It also duplicates the single row in A five times for a total of six, matching the number of rows in B. Then it adds each element in the newly expanded A array to its counterpart in the same location in B. The result of each calculation shows up in the corresponding location of the output.\n",
    "\n",
    "Once again, even though you can use words like “plane,” “row,” and “column” to describe how the shapes in this example are broadcast to create matching three-dimensional shapes, things get more complicated at higher dimensions. A lot of times, you’ll have to simply follow the broadcasting rules and do lots of print-outs to make sure things are working as planned.\n",
    "\n",
    "Understanding broadcasting is an important part of mastering vectorized calculations, and vectorized calculations are the way to write clean, idiomatic NumPy code."
   ]
  },
  {
   "cell_type": "code",
   "execution_count": 17,
   "metadata": {},
   "outputs": [
    {
     "data": {
      "text/plain": [
       "array([[[ 0,  2,  4,  6,  8, 10, 12, 14],\n",
       "        [ 8, 10, 12, 14, 16, 18, 20, 22],\n",
       "        [16, 18, 20, 22, 24, 26, 28, 30],\n",
       "        [24, 26, 28, 30, 32, 34, 36, 38],\n",
       "        [32, 34, 36, 38, 40, 42, 44, 46],\n",
       "        [40, 42, 44, 46, 48, 50, 52, 54]],\n",
       "\n",
       "       [[ 8, 10, 12, 14, 16, 18, 20, 22],\n",
       "        [16, 18, 20, 22, 24, 26, 28, 30],\n",
       "        [24, 26, 28, 30, 32, 34, 36, 38],\n",
       "        [32, 34, 36, 38, 40, 42, 44, 46],\n",
       "        [40, 42, 44, 46, 48, 50, 52, 54],\n",
       "        [48, 50, 52, 54, 56, 58, 60, 62]],\n",
       "\n",
       "       [[16, 18, 20, 22, 24, 26, 28, 30],\n",
       "        [24, 26, 28, 30, 32, 34, 36, 38],\n",
       "        [32, 34, 36, 38, 40, 42, 44, 46],\n",
       "        [40, 42, 44, 46, 48, 50, 52, 54],\n",
       "        [48, 50, 52, 54, 56, 58, 60, 62],\n",
       "        [56, 58, 60, 62, 64, 66, 68, 70]],\n",
       "\n",
       "       [[24, 26, 28, 30, 32, 34, 36, 38],\n",
       "        [32, 34, 36, 38, 40, 42, 44, 46],\n",
       "        [40, 42, 44, 46, 48, 50, 52, 54],\n",
       "        [48, 50, 52, 54, 56, 58, 60, 62],\n",
       "        [56, 58, 60, 62, 64, 66, 68, 70],\n",
       "        [64, 66, 68, 70, 72, 74, 76, 78]]])"
      ]
     },
     "execution_count": 17,
     "metadata": {},
     "output_type": "execute_result"
    }
   ],
   "source": [
    "# A has 4 planes, each with 1 row and 8 columns. \n",
    "# B has only 1 plane with 6 rows and 8 columns.\n",
    "A + B"
   ]
  },
  {
   "cell_type": "markdown",
   "metadata": {},
   "source": [
    "## Data Science Operations: Filter, Order, Aggregate\n",
    "\n",
    "### Indexing\n",
    "\n",
    "Indexing uses many of the same idioms that normal Python code uses. You can use positive or negative indices to index from the front or back of the array. You can use a colon (:) to specify “the rest” or “all,” and you can even use two colons to skip elements as with regular Python lists.\n",
    "\n",
    "Here’s the difference: NumPy arrays use commas between axes, so you can index multiple axes in one set of square brackets.\n",
    "\n",
    "https://en.wikipedia.org/wiki/Magic_square#Albrecht_D%C3%BCrer's_magic_square\n",
    "\n",
    "The number square below has some amazing properties. If you add up any of the rows, columns, or diagonals, then you’ll get the same number, 34. That’s also what you’ll get if you add up each of the four quadrants, the center four squares, the four corner squares, or the four corner squares of any of the contained 3 × 3 grids. You’re going to prove it!"
   ]
  },
  {
   "cell_type": "code",
   "execution_count": 18,
   "metadata": {},
   "outputs": [],
   "source": [
    "square = np.array([\n",
    "    [16, 3, 2, 13],\n",
    "    [5, 10, 11, 8],\n",
    "    [9, 6, 7, 12],\n",
    "    [4, 15, 14, 1]\n",
    "])\n",
    "\n",
    "for i in range(4):\n",
    "    assert square[:, i].sum() == 34\n",
    "    assert square[i, :].sum() == 34"
   ]
  },
  {
   "cell_type": "code",
   "execution_count": 20,
   "metadata": {},
   "outputs": [
    {
     "data": {
      "text/plain": [
       "[34, 34, 34, 34]"
      ]
     },
     "execution_count": 20,
     "metadata": {},
     "output_type": "execute_result"
    }
   ],
   "source": [
    "[square[:, 0].sum(), square[:, 2].sum(), \n",
    " square[:, 3].sum(), square[:, 1].sum()]"
   ]
  },
  {
   "cell_type": "code",
   "execution_count": 21,
   "metadata": {},
   "outputs": [
    {
     "data": {
      "text/plain": [
       "[34, 34, 34, 34]"
      ]
     },
     "execution_count": 21,
     "metadata": {},
     "output_type": "execute_result"
    }
   ],
   "source": [
    "[square[0, :].sum(), square[1, :].sum(), \n",
    " square[2, :].sum(), square[3, :].sum()]"
   ]
  },
  {
   "cell_type": "markdown",
   "metadata": {},
   "source": [
    "### Masking and Filtering\n",
    "\n",
    "**Index-based selection is great, but what if you want to filter your data based on more complicated nonuniform or nonsequential criteria? This is where the concept of a mask comes into play.**\n",
    "\n",
    "A mask is an array that has the exact same shape as your data, but instead of your values, it holds Boolean values: either True or False. You can use this mask array to index into your data array in nonlinear and complex ways. It will return all of the elements where the Boolean array has a True value.\n",
    "\n",
    "**np.linspace()** generates n numbers evenly distributed between a minimum and a maximum, which is useful for evenly distributed sampling in scientific plotting.\n",
    "\n",
    "**array.reshape() can take -1 as one of its dimension sizes**. *That signifies that NumPy should just figure out how big that particular axis needs to be based on the size of the other axes.* In this case, with 24 values and a size of 4 in axis 0, axis 1 ends up with a size of 6."
   ]
  },
  {
   "cell_type": "code",
   "execution_count": 22,
   "metadata": {},
   "outputs": [
    {
     "data": {
      "text/plain": [
       "array([[ 5,  6,  8, 10, 12, 14],\n",
       "       [16, 18, 20, 22, 24, 26],\n",
       "       [28, 30, 32, 34, 36, 38],\n",
       "       [40, 42, 44, 46, 48, 50]])"
      ]
     },
     "execution_count": 22,
     "metadata": {},
     "output_type": "execute_result"
    }
   ],
   "source": [
    "numbers = np.linspace(5, 50, 24, dtype=int).reshape(4, -1)\n",
    "numbers"
   ]
  },
  {
   "cell_type": "code",
   "execution_count": 23,
   "metadata": {},
   "outputs": [],
   "source": [
    "mask = numbers % 4 == 0"
   ]
  },
  {
   "cell_type": "code",
   "execution_count": 24,
   "metadata": {},
   "outputs": [
    {
     "data": {
      "text/plain": [
       "array([[False, False,  True, False,  True, False],\n",
       "       [ True, False,  True, False,  True, False],\n",
       "       [ True, False,  True, False,  True, False],\n",
       "       [ True, False,  True, False,  True, False]])"
      ]
     },
     "execution_count": 24,
     "metadata": {},
     "output_type": "execute_result"
    }
   ],
   "source": [
    "mask"
   ]
  },
  {
   "cell_type": "code",
   "execution_count": 25,
   "metadata": {},
   "outputs": [
    {
     "data": {
      "text/plain": [
       "array([ 8, 12, 16, 20, 24, 28, 32, 36, 40, 44, 48])"
      ]
     },
     "execution_count": 25,
     "metadata": {},
     "output_type": "execute_result"
    }
   ],
   "source": [
    "numbers[mask]"
   ]
  },
  {
   "cell_type": "code",
   "execution_count": 26,
   "metadata": {},
   "outputs": [
    {
     "data": {
      "text/plain": [
       "array([ 8, 12, 16, 20, 24, 28, 32, 36, 40, 44, 48])"
      ]
     },
     "execution_count": 26,
     "metadata": {},
     "output_type": "execute_result"
    }
   ],
   "source": [
    "numbers[numbers % 4 == 0]"
   ]
  },
  {
   "cell_type": "markdown",
   "metadata": {},
   "source": [
    "* **mask** is created by performing a vectorized Boolean computation, taking each element and checking to see if it divides evenly by four. This returns a mask array of the same shape with the element-wise results of the computation.\n",
    "* Use **mask** to index into the original numbers array. This causes the array to lose its original shape, reducing it to one dimension, but you still get the data you’re looking for.\n",
    "\n",
    "### Normal Distribution\n",
    "https://en.wikipedia.org/wiki/Normal_distribution\n",
    "\n",
    "https://en.wikipedia.org/wiki/Standard_deviation\n",
    "\n",
    "The normal distribution is a probability distribution in which roughly 95.45% of values occur within two standard deviations of the mean."
   ]
  },
  {
   "cell_type": "code",
   "execution_count": 27,
   "metadata": {},
   "outputs": [
    {
     "data": {
      "text/plain": [
       "array([-0.86894925,  0.68194156, -0.38301715,  0.12908635,  1.56870913])"
      ]
     },
     "execution_count": 27,
     "metadata": {},
     "output_type": "execute_result"
    }
   ],
   "source": [
    "from numpy.random import default_rng\n",
    "rng = default_rng()\n",
    "values = rng.standard_normal(10000)\n",
    "values[:5]"
   ]
  },
  {
   "cell_type": "code",
   "execution_count": 29,
   "metadata": {},
   "outputs": [
    {
     "data": {
      "text/plain": [
       "0.9918000944942111"
      ]
     },
     "execution_count": 29,
     "metadata": {},
     "output_type": "execute_result"
    }
   ],
   "source": [
    "std = values.std()\n",
    "std"
   ]
  },
  {
   "cell_type": "code",
   "execution_count": 30,
   "metadata": {},
   "outputs": [
    {
     "data": {
      "text/plain": [
       "9547"
      ]
     },
     "execution_count": 30,
     "metadata": {},
     "output_type": "execute_result"
    }
   ],
   "source": [
    "filtered = values[(values > -2 * std) & (values < 2* std)]\n",
    "filtered.size"
   ]
  },
  {
   "cell_type": "code",
   "execution_count": 31,
   "metadata": {},
   "outputs": [
    {
     "data": {
      "text/plain": [
       "(10000, 0.9547)"
      ]
     },
     "execution_count": 31,
     "metadata": {},
     "output_type": "execute_result"
    }
   ],
   "source": [
    "values.size, filtered.size/values.size"
   ]
  },
  {
   "cell_type": "markdown",
   "metadata": {},
   "source": [
    "### Transposing, Sorting, and Concatenating"
   ]
  },
  {
   "cell_type": "code",
   "execution_count": 32,
   "metadata": {},
   "outputs": [
    {
     "data": {
      "text/plain": [
       "array([[1, 2],\n",
       "       [3, 4],\n",
       "       [5, 6]])"
      ]
     },
     "execution_count": 32,
     "metadata": {},
     "output_type": "execute_result"
    }
   ],
   "source": [
    "a = np.array([\n",
    "    [1, 2],\n",
    "    [3, 4],\n",
    "    [5, 6]\n",
    "])\n",
    "a"
   ]
  },
  {
   "cell_type": "code",
   "execution_count": 33,
   "metadata": {},
   "outputs": [
    {
     "data": {
      "text/plain": [
       "array([[1, 3, 5],\n",
       "       [2, 4, 6]])"
      ]
     },
     "execution_count": 33,
     "metadata": {},
     "output_type": "execute_result"
    }
   ],
   "source": [
    "a.T"
   ]
  },
  {
   "cell_type": "code",
   "execution_count": 34,
   "metadata": {},
   "outputs": [
    {
     "data": {
      "text/plain": [
       "array([[1, 3, 5],\n",
       "       [2, 4, 6]])"
      ]
     },
     "execution_count": 34,
     "metadata": {},
     "output_type": "execute_result"
    }
   ],
   "source": [
    "a.transpose()"
   ]
  },
  {
   "cell_type": "code",
   "execution_count": 35,
   "metadata": {},
   "outputs": [
    {
     "data": {
      "text/plain": [
       "array([[7, 1, 4],\n",
       "       [8, 6, 5],\n",
       "       [1, 2, 3]])"
      ]
     },
     "execution_count": 35,
     "metadata": {},
     "output_type": "execute_result"
    }
   ],
   "source": [
    "data = np.array([\n",
    "    [7, 1, 4],\n",
    "    [8, 6, 5],\n",
    "    [1, 2, 3]\n",
    "])\n",
    "data"
   ]
  },
  {
   "cell_type": "code",
   "execution_count": 36,
   "metadata": {},
   "outputs": [
    {
     "data": {
      "text/plain": [
       "array([[1, 4, 7],\n",
       "       [5, 6, 8],\n",
       "       [1, 2, 3]])"
      ]
     },
     "execution_count": 36,
     "metadata": {},
     "output_type": "execute_result"
    }
   ],
   "source": [
    "np.sort(data)"
   ]
  },
  {
   "cell_type": "code",
   "execution_count": 37,
   "metadata": {},
   "outputs": [
    {
     "data": {
      "text/plain": [
       "array([1, 1, 2, 3, 4, 5, 6, 7, 8])"
      ]
     },
     "execution_count": 37,
     "metadata": {},
     "output_type": "execute_result"
    }
   ],
   "source": [
    "np.sort(data, axis=None)"
   ]
  },
  {
   "cell_type": "code",
   "execution_count": 38,
   "metadata": {},
   "outputs": [
    {
     "data": {
      "text/plain": [
       "array([[1, 1, 3],\n",
       "       [7, 2, 4],\n",
       "       [8, 6, 5]])"
      ]
     },
     "execution_count": 38,
     "metadata": {},
     "output_type": "execute_result"
    }
   ],
   "source": [
    "np.sort(data, axis=0)"
   ]
  },
  {
   "cell_type": "code",
   "execution_count": 40,
   "metadata": {},
   "outputs": [
    {
     "data": {
      "text/plain": [
       "array([[3, 5, 4, 8],\n",
       "       [7, 2, 7, 2]])"
      ]
     },
     "execution_count": 40,
     "metadata": {},
     "output_type": "execute_result"
    }
   ],
   "source": [
    "c = np.array([\n",
    "    [3, 5],\n",
    "    [7, 2]\n",
    "])\n",
    "d = np.array([\n",
    "    [4, 8],\n",
    "    [7, 2]\n",
    "])\n",
    "np.hstack((c, d))"
   ]
  },
  {
   "cell_type": "code",
   "execution_count": 41,
   "metadata": {},
   "outputs": [
    {
     "data": {
      "text/plain": [
       "array([[3, 5],\n",
       "       [7, 2],\n",
       "       [4, 8],\n",
       "       [7, 2]])"
      ]
     },
     "execution_count": 41,
     "metadata": {},
     "output_type": "execute_result"
    }
   ],
   "source": [
    "np.vstack((c, d))"
   ]
  },
  {
   "cell_type": "code",
   "execution_count": 42,
   "metadata": {},
   "outputs": [
    {
     "data": {
      "text/plain": [
       "array([[4, 8],\n",
       "       [7, 2],\n",
       "       [3, 5],\n",
       "       [7, 2]])"
      ]
     },
     "execution_count": 42,
     "metadata": {},
     "output_type": "execute_result"
    }
   ],
   "source": [
    "np.vstack((d, c))"
   ]
  },
  {
   "cell_type": "code",
   "execution_count": 43,
   "metadata": {},
   "outputs": [
    {
     "data": {
      "text/plain": [
       "array([[3, 5],\n",
       "       [7, 2],\n",
       "       [4, 8],\n",
       "       [7, 2]])"
      ]
     },
     "execution_count": 43,
     "metadata": {},
     "output_type": "execute_result"
    }
   ],
   "source": [
    "np.concatenate((c, d))"
   ]
  },
  {
   "cell_type": "code",
   "execution_count": 44,
   "metadata": {},
   "outputs": [
    {
     "data": {
      "text/plain": [
       "array([3, 5, 7, 2, 4, 8, 7, 2])"
      ]
     },
     "execution_count": 44,
     "metadata": {},
     "output_type": "execute_result"
    }
   ],
   "source": [
    "np.concatenate((c, d), axis=None)"
   ]
  },
  {
   "cell_type": "markdown",
   "metadata": {},
   "source": [
    "### Aggregating\n",
    "Many of the mathematical, financial, and statistical functions use aggregation to help you reduce the number of dimensions in your data."
   ]
  },
  {
   "cell_type": "markdown",
   "metadata": {},
   "source": [
    "### Practical Example 1: Implementing a Maclaurin Series\n",
    "\n",
    "Now it’s time to see a realistic use case for the skills introduced in the sections above: implementing an equation.\n",
    "\n",
    "**One of the hardest things about converting mathematical equations to code without NumPy is that many of the visual similarities are missing, which makes it hard to tell what portion of the equation you’re looking at as you read the code. Summations are converted to more verbose for loops, and limit optimizations end up looking like while loops.**\n",
    "\n",
    "Using NumPy allows you to keep closer to a one-to-one representation from equation to code.\n",
    "\n",
    "In this next example, you’ll encode the Maclaurin series (https://mathworld.wolfram.com/MaclaurinSeries.html) for ex. Maclaurin series are a way of approximating more complicated functions with an infinite series of summed terms centered about zero.\n",
    "\n",
    "For $e^{x}$, the Maclaurin series is the following summation:\n",
    "\n",
    "$$e^{x} = \\sum_{n=0}^\\infty\\frac{x^n}{n!} = 1+x+\\frac{x^2}{2}+\\frac{x^3}{6}+\\quad...$$\n",
    "\n",
    "You add up terms starting at zero and going theoretically to infinity. Each nth term will be x raised to n and divided by n!, which is the notation for the factorial operation."
   ]
  },
  {
   "cell_type": "code",
   "execution_count": 46,
   "metadata": {},
   "outputs": [
    {
     "name": "stdout",
     "output_type": "stream",
     "text": [
      "Actual:20.085536923187664\n",
      "N (terms)\tMaclaurin\tError\n",
      "1\t\t1.000\t\t19.086\n",
      "2\t\t4.000\t\t16.086\n",
      "3\t\t8.500\t\t11.586\n",
      "4\t\t13.000\t\t7.086\n",
      "5\t\t16.375\t\t3.711\n",
      "6\t\t18.400\t\t1.686\n",
      "7\t\t19.412\t\t0.673\n",
      "8\t\t19.846\t\t0.239\n",
      "9\t\t20.009\t\t0.076\n",
      "10\t\t20.063\t\t0.022\n",
      "11\t\t20.080\t\t0.006\n",
      "12\t\t20.084\t\t0.001\n",
      "13\t\t20.085\t\t0.000\n"
     ]
    }
   ],
   "source": [
    "from math import e, factorial\n",
    "\n",
    "fac = np.vectorize(factorial)\n",
    "\n",
    "def e_x(x, terms=10):\n",
    "    \"\"\"Approximate e^x using a given number of terms of \n",
    "    the Maclaurin's series\"\"\"\n",
    "    \n",
    "    n = np.arange(terms)\n",
    "    return np.sum((x**n)/ fac(n))\n",
    "\n",
    "if __name__ == \"__main__\":\n",
    "    print(f'Actual:{e**3}')\n",
    "    \n",
    "    print(f'N (terms)\\tMaclaurin\\tError')\n",
    "    \n",
    "    for n in range(1, 14):\n",
    "        maclaurin = e_x(3, terms=n)\n",
    "        print(f\"{n}\\t\\t{maclaurin:.03f}\\t\\t{e**3 - maclaurin:.03f}\")"
   ]
  },
  {
   "cell_type": "code",
   "execution_count": 48,
   "metadata": {},
   "outputs": [
    {
     "data": {
      "text/plain": [
       "array([0, 1, 2, 3, 4, 5, 6, 7, 8, 9])"
      ]
     },
     "execution_count": 48,
     "metadata": {},
     "output_type": "execute_result"
    }
   ],
   "source": [
    "n =np.arange(10)\n",
    "n"
   ]
  },
  {
   "cell_type": "code",
   "execution_count": 49,
   "metadata": {},
   "outputs": [
    {
     "data": {
      "text/plain": [
       "7.3887125220458545"
      ]
     },
     "execution_count": 49,
     "metadata": {},
     "output_type": "execute_result"
    }
   ],
   "source": [
    "np.sum((2**n)/ fac(n))"
   ]
  },
  {
   "cell_type": "markdown",
   "metadata": {},
   "source": [
    "### Optimizing Storage: Data Types\n",
    "In NumPy, though, there’s a little more detail that needs to be covered. NumPy uses C code under the hood to optimize performance, and it can’t do that unless all the items in an array are of the same type. That doesn’t just mean the same Python type. They have to be the same underlying C type, with the same shape and size in bits!"
   ]
  },
  {
   "cell_type": "code",
   "execution_count": null,
   "metadata": {},
   "outputs": [],
   "source": []
  }
 ],
 "metadata": {
  "kernelspec": {
   "display_name": "Python 3",
   "language": "python",
   "name": "python3"
  },
  "language_info": {
   "codemirror_mode": {
    "name": "ipython",
    "version": 3
   },
   "file_extension": ".py",
   "mimetype": "text/x-python",
   "name": "python",
   "nbconvert_exporter": "python",
   "pygments_lexer": "ipython3",
   "version": "3.8.5"
  }
 },
 "nbformat": 4,
 "nbformat_minor": 4
}
