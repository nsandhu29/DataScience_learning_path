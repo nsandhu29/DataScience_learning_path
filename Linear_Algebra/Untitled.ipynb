{
 "cells": [
  {
   "cell_type": "markdown",
   "metadata": {},
   "source": [
    "\n",
    "Matrix-Vector Products:\n",
    "\n",
    "The matrix below gives the probabilities of moving from 1 health state to another in 1 year. If the current health states for a group are:\n",
    "\n",
    "    85% asymptomatic\n",
    "    10% symptomatic\n",
    "    5% AIDS\n",
    "    0% death\n",
    "\n",
    "what will be the % in each health state in 1 year?\n"
   ]
  },
  {
   "cell_type": "code",
   "execution_count": 1,
   "metadata": {},
   "outputs": [],
   "source": [
    "import numpy as np"
   ]
  },
  {
   "cell_type": "code",
   "execution_count": 2,
   "metadata": {},
   "outputs": [
    {
     "data": {
      "text/plain": [
       "array([0.85, 0.1 , 0.05, 0.  ])"
      ]
     },
     "execution_count": 2,
     "metadata": {},
     "output_type": "execute_result"
    }
   ],
   "source": [
    "# Repersenting Matrix in numpy\n",
    "m1 = np.array([0.85, .1, .05, 0])\n",
    "m1"
   ]
  },
  {
   "cell_type": "code",
   "execution_count": 3,
   "metadata": {},
   "outputs": [
    {
     "data": {
      "text/plain": [
       "array([[0.9 , 0.07, 0.02, 0.01],\n",
       "       [0.  , 0.93, 0.05, 0.02],\n",
       "       [0.  , 0.  , 0.85, 0.15],\n",
       "       [0.  , 0.  , 0.  , 1.  ]])"
      ]
     },
     "execution_count": 3,
     "metadata": {},
     "output_type": "execute_result"
    }
   ],
   "source": [
    "m2 = np.array([[0.9, 0.07, 0.02, 0.01], [0, 0.93, 0.05, 0.02], [0, 0, 0.85, 0.15], [0, 0, 0, 1.00]])\n",
    "m2"
   ]
  },
  {
   "cell_type": "code",
   "execution_count": 6,
   "metadata": {},
   "outputs": [
    {
     "data": {
      "text/plain": [
       "array([0.765 , 0.1525, 0.0645, 0.018 ])"
      ]
     },
     "execution_count": 6,
     "metadata": {},
     "output_type": "execute_result"
    }
   ],
   "source": [
    "# Doing transpose and muliplying\n",
    "# in python 3 @ repersents multiplication\n",
    "m2.T @ m1.T"
   ]
  },
  {
   "cell_type": "code",
   "execution_count": null,
   "metadata": {},
   "outputs": [],
   "source": []
  }
 ],
 "metadata": {
  "kernelspec": {
   "display_name": "Python 3",
   "language": "python",
   "name": "python3"
  },
  "language_info": {
   "codemirror_mode": {
    "name": "ipython",
    "version": 3
   },
   "file_extension": ".py",
   "mimetype": "text/x-python",
   "name": "python",
   "nbconvert_exporter": "python",
   "pygments_lexer": "ipython3",
   "version": "3.9.1"
  }
 },
 "nbformat": 4,
 "nbformat_minor": 4
}
