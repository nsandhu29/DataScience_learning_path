{
 "cells": [
  {
   "cell_type": "code",
   "execution_count": 1,
   "id": "heard-michael",
   "metadata": {},
   "outputs": [],
   "source": [
    "import numpy as np\n",
    "import matplotlib.pyplot as plt"
   ]
  },
  {
   "cell_type": "markdown",
   "id": "excess-thumb",
   "metadata": {},
   "source": [
    "## Matrix Notation and matrix multiplication\n",
    "\n",
    "$$2u + v + w = 5\\\\\n",
    "4u - 6v    = -2\\\\\n",
    "-2u + 7v + 2w = 9$$\n",
    "\n",
    "- matrix form\n",
    "\n",
    "$$ Ax = b$$\n",
    "$$ x = \n",
    "\\begin{bmatrix}\n",
    "u\\\\\n",
    "v\\\\\n",
    "w\n",
    "\\end{bmatrix}$$\n",
    "\n",
    "$$ b =\n",
    "\\begin{bmatrix}\n",
    "5\\\\\n",
    "-2\\\\\n",
    "9\n",
    "\\end{bmatrix}$$\n",
    "\n",
    "$$ A = \n",
    "\\begin{bmatrix}\n",
    "2&1&1\\\\\n",
    "4&-6&0\\\\\n",
    "-2&7&2\n",
    "\\end{bmatrix}$$\n"
   ]
  },
  {
   "cell_type": "code",
   "execution_count": 21,
   "id": "cooperative-childhood",
   "metadata": {},
   "outputs": [],
   "source": [
    "# Defining all in numpy\n",
    "A = np.array([[2, 1, 1], \n",
    "             [4, -6, 0], \n",
    "             [-2, 7, 2]])\n",
    "x = np.array(['u', 'v', 'w'])\n",
    "b = np.array([5, -2, 9])"
   ]
  },
  {
   "cell_type": "code",
   "execution_count": 22,
   "id": "technological-rochester",
   "metadata": {},
   "outputs": [
    {
     "data": {
      "text/plain": [
       "array([1., 1., 2.])"
      ]
     },
     "execution_count": 22,
     "metadata": {},
     "output_type": "execute_result"
    }
   ],
   "source": [
    "# Solve linear equation in numpy\n",
    "np.linalg.solve(A, b)"
   ]
  },
  {
   "cell_type": "markdown",
   "id": "conditional-entertainment",
   "metadata": {},
   "source": [
    "### Matrix multiplication\n",
    "$$\\begin{bmatrix}\n",
    "1&1&6\\\\\n",
    "3&0&1\\\\\n",
    "1&1&4\n",
    "\\end{bmatrix}\n",
    "\\begin{bmatrix}\n",
    "2\\\\\n",
    "5\\\\\n",
    "0\n",
    "\\end{bmatrix}\n",
    "=\n",
    "\\begin{bmatrix}\n",
    "1.2+1.5+6.0\\\\\n",
    "3.2+0.5+3.0\\\\\n",
    "1.2+1.5+4.0\n",
    "\\end{bmatrix}\n",
    "=\n",
    "\\begin{bmatrix}\n",
    "7\\\\\n",
    "6\\\\\n",
    "7\n",
    "\\end{bmatrix}\n",
    "$$"
   ]
  },
  {
   "cell_type": "code",
   "execution_count": 7,
   "id": "organizational-religious",
   "metadata": {},
   "outputs": [
    {
     "data": {
      "text/plain": [
       "array([7, 6, 7])"
      ]
     },
     "execution_count": 7,
     "metadata": {},
     "output_type": "execute_result"
    }
   ],
   "source": [
    "# Matrix multiplication\n",
    "m1 = np.array([[1, 1, 6],\n",
    "              [3, 0, 1]\n",
    "              ,[1, 1, 4]])\n",
    "m2 = np.array([2, 5, 0])\n",
    "m1 @ m2.T"
   ]
  },
  {
   "cell_type": "markdown",
   "id": "involved-major",
   "metadata": {},
   "source": [
    "### Inner product\n",
    "$$\\begin{bmatrix}\n",
    "2&1&1\n",
    "\\end{bmatrix}\n",
    "\\begin{bmatrix}\n",
    "1\\\\\n",
    "1\\\\\n",
    "2\n",
    "\\end{bmatrix}\n",
    "=\n",
    "\\begin{bmatrix}\n",
    "2.1 + 1.1 + 1.2\n",
    "\\end{bmatrix}\n",
    "= [5]$$"
   ]
  },
  {
   "cell_type": "code",
   "execution_count": 8,
   "id": "massive-seafood",
   "metadata": {},
   "outputs": [
    {
     "data": {
      "text/plain": [
       "5"
      ]
     },
     "execution_count": 8,
     "metadata": {},
     "output_type": "execute_result"
    }
   ],
   "source": [
    "#Inner product\n",
    "m1 = np.array([2, 1, 1])\n",
    "m2 = np.array([1, 1, 2])\n",
    "m1 @ m2.T"
   ]
  },
  {
   "cell_type": "markdown",
   "id": "major-watson",
   "metadata": {},
   "source": [
    "### Inverse of matrix\n",
    "$$AA^{-1}=I\\\\A^{-1}A=I$$\n"
   ]
  },
  {
   "cell_type": "code",
   "execution_count": 17,
   "id": "handled-turtle",
   "metadata": {},
   "outputs": [
    {
     "data": {
      "text/plain": [
       "array([[ 0.75  , -0.3125, -0.375 ],\n",
       "       [ 0.5   , -0.375 , -0.25  ],\n",
       "       [-1.    ,  1.    ,  1.    ]])"
      ]
     },
     "execution_count": 17,
     "metadata": {},
     "output_type": "execute_result"
    }
   ],
   "source": [
    "#inverse of matrix\n",
    "A = np.array([[2, 1, 1],\n",
    "             [4, -6, 0],\n",
    "             [-2, 7, 2]])\n",
    "A_inverse = np.linalg.inv(A)\n",
    "A_inverse"
   ]
  },
  {
   "cell_type": "markdown",
   "id": "consistent-article",
   "metadata": {},
   "source": [
    "### Transpose of matrix\n",
    "\n",
    "$$A=\\begin{bmatrix}\n",
    "2&1&4\\\\\n",
    "0&0&3\n",
    "\\end{bmatrix}$$\n",
    "\n",
    "$$A^{T} = \\begin{bmatrix}\n",
    "2&0\\\\\n",
    "1&0\\\\\n",
    "4&3\n",
    "\\end{bmatrix}\n",
    "$$\n",
    "\n",
    "$(A^{-1})^TA^T = I$"
   ]
  },
  {
   "cell_type": "code",
   "execution_count": 18,
   "id": "radical-progress",
   "metadata": {},
   "outputs": [
    {
     "data": {
      "text/plain": [
       "array([[2, 0],\n",
       "       [1, 0],\n",
       "       [4, 3]])"
      ]
     },
     "execution_count": 18,
     "metadata": {},
     "output_type": "execute_result"
    }
   ],
   "source": [
    "A = np.array([[2, 1, 4], [0, 0, 3]])\n",
    "A.T"
   ]
  },
  {
   "cell_type": "code",
   "execution_count": 23,
   "id": "raised-blackjack",
   "metadata": {},
   "outputs": [],
   "source": [
    "#Determinant of matrix\n",
    "#np.linalg.det(A)"
   ]
  },
  {
   "cell_type": "code",
   "execution_count": null,
   "id": "particular-sessions",
   "metadata": {},
   "outputs": [],
   "source": []
  }
 ],
 "metadata": {
  "kernelspec": {
   "display_name": "Python 3",
   "language": "python",
   "name": "python3"
  },
  "language_info": {
   "codemirror_mode": {
    "name": "ipython",
    "version": 3
   },
   "file_extension": ".py",
   "mimetype": "text/x-python",
   "name": "python",
   "nbconvert_exporter": "python",
   "pygments_lexer": "ipython3",
   "version": "3.9.1"
  }
 },
 "nbformat": 4,
 "nbformat_minor": 5
}
